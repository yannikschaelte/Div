{
 "cells": [
  {
   "cell_type": "code",
   "execution_count": 21,
   "metadata": {},
   "outputs": [
    {
     "name": "stdout",
     "output_type": "stream",
     "text": [
      "['Exp Data', 'Simulation']\n",
      "A1:A1\n"
     ]
    },
    {
     "ename": "ValueError",
     "evalue": "Worksheet is unsized, use calculate_dimension(force=True)",
     "output_type": "error",
     "traceback": [
      "\u001b[0;31m---------------------------------------------------------------------------\u001b[0m",
      "\u001b[0;31mValueError\u001b[0m                                Traceback (most recent call last)",
      "\u001b[0;32m<ipython-input-21-77bdf27d79f8>\u001b[0m in \u001b[0;36m<module>\u001b[0;34m()\u001b[0m\n\u001b[1;32m      6\u001b[0m \u001b[0mws\u001b[0m\u001b[0;34m.\u001b[0m\u001b[0mmax_row\u001b[0m \u001b[0;34m=\u001b[0m \u001b[0mws\u001b[0m\u001b[0;34m.\u001b[0m\u001b[0mmax_column\u001b[0m \u001b[0;34m=\u001b[0m \u001b[0;32mNone\u001b[0m\u001b[0;34m\u001b[0m\u001b[0m\n\u001b[1;32m      7\u001b[0m \u001b[0;34m\u001b[0m\u001b[0m\n\u001b[0;32m----> 8\u001b[0;31m \u001b[0mprint\u001b[0m\u001b[0;34m(\u001b[0m\u001b[0mws\u001b[0m\u001b[0;34m.\u001b[0m\u001b[0mcalculate_dimension\u001b[0m\u001b[0;34m(\u001b[0m\u001b[0;34m)\u001b[0m\u001b[0;34m)\u001b[0m\u001b[0;34m\u001b[0m\u001b[0m\n\u001b[0m\u001b[1;32m      9\u001b[0m \u001b[0;32mfor\u001b[0m \u001b[0mrow\u001b[0m \u001b[0;32min\u001b[0m \u001b[0mws\u001b[0m\u001b[0;34m.\u001b[0m\u001b[0mrows\u001b[0m\u001b[0;34m:\u001b[0m\u001b[0;34m\u001b[0m\u001b[0m\n\u001b[1;32m     10\u001b[0m     \u001b[0;32mfor\u001b[0m \u001b[0mcell\u001b[0m \u001b[0;32min\u001b[0m \u001b[0mrow\u001b[0m\u001b[0;34m:\u001b[0m\u001b[0;34m\u001b[0m\u001b[0m\n",
      "\u001b[0;32m~/yenv2/lib/python3.6/site-packages/openpyxl/worksheet/read_only.py\u001b[0m in \u001b[0;36mcalculate_dimension\u001b[0;34m(self, force)\u001b[0m\n\u001b[1;32m    211\u001b[0m                 \u001b[0mself\u001b[0m\u001b[0;34m.\u001b[0m\u001b[0m_calculate_dimension\u001b[0m\u001b[0;34m(\u001b[0m\u001b[0;34m)\u001b[0m\u001b[0;34m\u001b[0m\u001b[0m\n\u001b[1;32m    212\u001b[0m             \u001b[0;32melse\u001b[0m\u001b[0;34m:\u001b[0m\u001b[0;34m\u001b[0m\u001b[0m\n\u001b[0;32m--> 213\u001b[0;31m                 \u001b[0;32mraise\u001b[0m \u001b[0mValueError\u001b[0m\u001b[0;34m(\u001b[0m\u001b[0;34m\"Worksheet is unsized, use calculate_dimension(force=True)\"\u001b[0m\u001b[0;34m)\u001b[0m\u001b[0;34m\u001b[0m\u001b[0m\n\u001b[0m\u001b[1;32m    214\u001b[0m         return '%s%d:%s%d' % (\n\u001b[1;32m    215\u001b[0m            \u001b[0mget_column_letter\u001b[0m\u001b[0;34m(\u001b[0m\u001b[0mself\u001b[0m\u001b[0;34m.\u001b[0m\u001b[0mmin_column\u001b[0m\u001b[0;34m)\u001b[0m\u001b[0;34m,\u001b[0m \u001b[0mself\u001b[0m\u001b[0;34m.\u001b[0m\u001b[0mmin_row\u001b[0m\u001b[0;34m,\u001b[0m\u001b[0;34m\u001b[0m\u001b[0m\n",
      "\u001b[0;31mValueError\u001b[0m: Worksheet is unsized, use calculate_dimension(force=True)"
     ]
    }
   ],
   "source": [
    "import openpyxl\n",
    "\n",
    "\n",
    "wb = openpyxl.load_workbook(\"bm/Data/model1_data1.xlsx\", read_only=True)\n",
    "print(wb.sheetnames)\n",
    "ws = wb[\"Exp Data\"]\n",
    "\n",
    "# some applications set the worksheet information incorrectly\n",
    "# so, reset dimension attributes\n",
    "ws.max_row = ws.max_column = None\n",
    "\n",
    "for row in ws.rows:\n",
    "    for cell in row:\n",
    "        print(cell.value)"
   ]
  },
  {
   "cell_type": "code",
   "execution_count": 4,
   "metadata": {},
   "outputs": [
    {
     "data": {
      "text/html": [
       "<div>\n",
       "<style scoped>\n",
       "    .dataframe tbody tr th:only-of-type {\n",
       "        vertical-align: middle;\n",
       "    }\n",
       "\n",
       "    .dataframe tbody tr th {\n",
       "        vertical-align: top;\n",
       "    }\n",
       "\n",
       "    .dataframe thead th {\n",
       "        text-align: right;\n",
       "    }\n",
       "</style>\n",
       "<table border=\"1\" class=\"dataframe\">\n",
       "  <thead>\n",
       "    <tr style=\"text-align: right;\">\n",
       "      <th></th>\n",
       "      <th>Unnamed: 0</th>\n",
       "      <th>Unnamed: 1</th>\n",
       "    </tr>\n",
       "  </thead>\n",
       "  <tbody>\n",
       "    <tr>\n",
       "      <th>0</th>\n",
       "      <td>dEGFR/dt</td>\n",
       "      <td>68190.0*EGFR_turnover - 0.1*EGFR*reaction_1_k1...</td>\n",
       "    </tr>\n",
       "    <tr>\n",
       "      <th>1</th>\n",
       "      <td>dpEGFR/dt</td>\n",
       "      <td>EGF_EGFR*reaction_9_k1 - pEGFR*reaction_4_k1 +...</td>\n",
       "    </tr>\n",
       "    <tr>\n",
       "      <th>2</th>\n",
       "      <td>dpEGFR_Akt/dt</td>\n",
       "      <td>Akt*pEGFR*reaction_2_k1 - pEGFR_Akt*reaction_3...</td>\n",
       "    </tr>\n",
       "    <tr>\n",
       "      <th>3</th>\n",
       "      <td>dAkt/dt</td>\n",
       "      <td>pAkt*reaction_7_k1 + pEGFR_Akt*reaction_2_k2 -...</td>\n",
       "    </tr>\n",
       "    <tr>\n",
       "      <th>4</th>\n",
       "      <td>dpAkt/dt</td>\n",
       "      <td>pAkt_S6*reaction_5_k2 - pAkt*reaction_7_k1 + p...</td>\n",
       "    </tr>\n",
       "    <tr>\n",
       "      <th>5</th>\n",
       "      <td>dS6/dt</td>\n",
       "      <td>pAkt_S6*reaction_5_k2 + pS6*reaction_8_k1 - S6...</td>\n",
       "    </tr>\n",
       "    <tr>\n",
       "      <th>6</th>\n",
       "      <td>dpAkt_S6/dt</td>\n",
       "      <td>S6*pAkt*reaction_5_k1 - pAkt_S6*reaction_6_k1 ...</td>\n",
       "    </tr>\n",
       "    <tr>\n",
       "      <th>7</th>\n",
       "      <td>dpS6/dt</td>\n",
       "      <td>pAkt_S6*reaction_6_k1 - pS6*reaction_8_k1</td>\n",
       "    </tr>\n",
       "    <tr>\n",
       "      <th>8</th>\n",
       "      <td>dEGF_EGFR/dt</td>\n",
       "      <td>0.1*EGFR*reaction_1_k1 - EGF_EGFR*reaction_1_k...</td>\n",
       "    </tr>\n",
       "  </tbody>\n",
       "</table>\n",
       "</div>"
      ],
      "text/plain": [
       "      Unnamed: 0                                         Unnamed: 1\n",
       "0       dEGFR/dt  68190.0*EGFR_turnover - 0.1*EGFR*reaction_1_k1...\n",
       "1      dpEGFR/dt  EGF_EGFR*reaction_9_k1 - pEGFR*reaction_4_k1 +...\n",
       "2  dpEGFR_Akt/dt  Akt*pEGFR*reaction_2_k1 - pEGFR_Akt*reaction_3...\n",
       "3        dAkt/dt  pAkt*reaction_7_k1 + pEGFR_Akt*reaction_2_k2 -...\n",
       "4       dpAkt/dt  pAkt_S6*reaction_5_k2 - pAkt*reaction_7_k1 + p...\n",
       "5         dS6/dt  pAkt_S6*reaction_5_k2 + pS6*reaction_8_k1 - S6...\n",
       "6    dpAkt_S6/dt  S6*pAkt*reaction_5_k1 - pAkt_S6*reaction_6_k1 ...\n",
       "7        dpS6/dt          pAkt_S6*reaction_6_k1 - pS6*reaction_8_k1\n",
       "8   dEGF_EGFR/dt  0.1*EGFR*reaction_1_k1 - EGF_EGFR*reaction_1_k..."
      ]
     },
     "execution_count": 4,
     "metadata": {},
     "output_type": "execute_result"
    }
   ],
   "source": [
    "import pandas as pd\n",
    "pd.read_excel(\"bm/Model/model1_data1.xlsx\", sheet_name=\"\")"
   ]
  },
  {
   "cell_type": "code",
   "execution_count": null,
   "metadata": {},
   "outputs": [],
   "source": []
  }
 ],
 "metadata": {
  "kernelspec": {
   "display_name": "Python 3",
   "language": "python",
   "name": "python3"
  },
  "language_info": {
   "codemirror_mode": {
    "name": "ipython",
    "version": 3
   },
   "file_extension": ".py",
   "mimetype": "text/x-python",
   "name": "python",
   "nbconvert_exporter": "python",
   "pygments_lexer": "ipython3",
   "version": "3.6.5"
  }
 },
 "nbformat": 4,
 "nbformat_minor": 2
}
